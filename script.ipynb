{
 "cells": [
  {
   "cell_type": "code",
   "execution_count": null,
   "metadata": {},
   "outputs": [],
   "source": [
    "import pandas as pd\n",
    "\n",
    "# Load the prediction file\n",
    "predictions = pd.read_csv('prediction.csv')\n",
    "\n",
    "# Define the mapping from numbers to text labels\n",
    "labels_mapping = {0: 'HGSC', 1: 'EC', 2: 'MC', 3: 'CC', 4: 'LGSC'}\n",
    "\n",
    "# Replace the numeric labels with the text labels\n",
    "predictions['label'] = predictions['label'].map(labels_mapping)\n",
    "\n",
    "predictions.to_csv('test.csv', index=False)\n",
    "print(predictions.head())"
   ]
  }
 ],
 "metadata": {
  "language_info": {
   "name": "python"
  }
 },
 "nbformat": 4,
 "nbformat_minor": 2
}
